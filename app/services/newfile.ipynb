{
 "cells": [
  {
   "cell_type": "code",
   "execution_count": 1,
   "id": "b74f2f57",
   "metadata": {},
   "outputs": [],
   "source": [
    "sql=\"create table udp_job as SELECT u.id as udpId,j.id as jobId,j.name as jobName,u.name as udpName FROM   job j inner join udp u ON u.jobId  = j.id\""
   ]
  },
  {
   "cell_type": "code",
   "execution_count": 2,
   "id": "4b63a87b",
   "metadata": {},
   "outputs": [],
   "source": [
    "fqn_prefix=\"dextrus_db_conn.default.udp_db\"\n",
    "from sqllineage.runner import LineageRunner"
   ]
  },
  {
   "cell_type": "code",
   "execution_count": 4,
   "id": "25796b3b",
   "metadata": {},
   "outputs": [
    {
     "name": "stdout",
     "output_type": "stream",
     "text": [
      "payloads {'edge': {'fromEntity': {'id': 'dextrus_db_conn.default.udp_db.job', 'type': 'table'}, 'toEntity': {'id': 'dextrus_db_conn.default.udp_db.udp_job', 'type': 'table'}, 'lineageDetails': {'columnsLineage': [{'fromColumns': ['dextrus_db_conn.default.udp_db.job.id'], 'toColumn': 'dextrus_db_conn.default.udp_db.udp_job.jobid'}, {'fromColumns': ['dextrus_db_conn.default.udp_db.job.name'], 'toColumn': 'dextrus_db_conn.default.udp_db.udp_job.jobname'}]}}}\n",
      "payloads {'edge': {'fromEntity': {'id': 'dextrus_db_conn.default.udp_db.udp', 'type': 'table'}, 'toEntity': {'id': 'dextrus_db_conn.default.udp_db.udp_job', 'type': 'table'}, 'lineageDetails': {'columnsLineage': [{'fromColumns': ['dextrus_db_conn.default.udp_db.udp.id'], 'toColumn': 'dextrus_db_conn.default.udp_db.udp_job.udpid'}, {'fromColumns': ['dextrus_db_conn.default.udp_db.udp.name'], 'toColumn': 'dextrus_db_conn.default.udp_db.udp_job.udpname'}]}}}\n"
     ]
    }
   ],
   "source": [
    "columnsLineage = []\n",
    "lineage = LineageRunner(sql=sql, verbose=True)\n",
    "col_lineage = lineage.get_column_lineage()\n",
    "\n",
    "for col in col_lineage:\n",
    "    src = str(col[0])  # left column FQN\n",
    "    tgt = str(col[1])  # right column FQN\n",
    "\n",
    "    if \"<default>\" in src:\n",
    "        src = src.replace(\"<default>\", fqn_prefix)\n",
    "\n",
    "    if \"<default>\" in tgt:\n",
    "        tgt = tgt.replace(\"<default>\", fqn_prefix)\n",
    "\n",
    "    columnsLineage.append({\"fromColumns\": src, \"toColumn\": tgt})\n",
    "\n",
    "tables = {}\n",
    "for cols in columnsLineage:\n",
    "    fromcol = cols.get(\"fromColumns\")\n",
    "    tocol = cols.get(\"toColumn\")\n",
    "    totable = \".\".join(tocol.split(\".\")[:-1])\n",
    "    fromtable = \".\".join(fromcol.split(\".\")[:-1])\n",
    "    tables[fromtable] = totable\n",
    "\n",
    "payloads = []\n",
    "\n",
    "for fromtable, totable in tables.items():\n",
    "    table_payload = {\n",
    "        \"edge\": {\n",
    "            \"fromEntity\": {\"id\": \"\", \"type\": \"table\"},\n",
    "            \"toEntity\": {\"id\": \"\", \"type\": \"table\"},\n",
    "            \"lineageDetails\": {\"columnsLineage\": []},\n",
    "        }\n",
    "    }\n",
    "    # asset = await get_asset_by_fqn(asset_fqn=fromtable)\n",
    "    table_payload[\"edge\"][\"fromEntity\"][\"id\"] = fromtable\n",
    "    # asset = await get_asset_by_fqn(asset_fqn=totable)\n",
    "    table_payload[\"edge\"][\"toEntity\"][\"id\"] = totable\n",
    "    table_payload[\"edge\"][\"lineageDetails\"][\"columnsLineage\"] = []\n",
    "    for cols in columnsLineage:\n",
    "        col_level_payload = {}\n",
    "        fromcol = cols.get(\"fromColumns\")\n",
    "        tocol = cols.get(\"toColumn\")\n",
    "        fromcoltable = \".\".join(fromcol.split(\".\")[:-1])\n",
    "        tocoltable = \".\".join(tocol.split(\".\")[:-1])\n",
    "        if fromcoltable == fromtable:\n",
    "            col_level_payload[\"fromColumns\"] = [fromcol]\n",
    "            if tocoltable == totable:\n",
    "                col_level_payload[\"toColumn\"] = tocol\n",
    "        if col_level_payload:\n",
    "            table_payload[\"edge\"][\"lineageDetails\"][\"columnsLineage\"].append(\n",
    "                col_level_payload\n",
    "            )\n",
    "    payloads.append(table_payload)\n",
    "for payload in payloads:\n",
    "    try:\n",
    "        # response = await openmetadata_connection(\n",
    "        #     url=\"lineage\", method=\"PUT\", payload=payload\n",
    "        # )\n",
    "        print(\"payloads\",payload)\n",
    "    except Exception as e:\n",
    "        print(e)\n"
   ]
  }
 ],
 "metadata": {
  "kernelspec": {
   "display_name": "sqlglot_env",
   "language": "python",
   "name": "python3"
  },
  "language_info": {
   "codemirror_mode": {
    "name": "ipython",
    "version": 3
   },
   "file_extension": ".py",
   "mimetype": "text/x-python",
   "name": "python",
   "nbconvert_exporter": "python",
   "pygments_lexer": "ipython3",
   "version": "3.10.18"
  }
 },
 "nbformat": 4,
 "nbformat_minor": 5
}
